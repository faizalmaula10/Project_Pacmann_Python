{
  "nbformat": 4,
  "nbformat_minor": 0,
  "metadata": {
    "colab": {
      "provenance": [],
      "authorship_tag": "ABX9TyNN2KsNxY8MUQ+t0tWm52EQ",
      "include_colab_link": true
    },
    "kernelspec": {
      "name": "python3",
      "display_name": "Python 3"
    },
    "language_info": {
      "name": "python"
    }
  },
  "cells": [
    {
      "cell_type": "markdown",
      "metadata": {
        "id": "view-in-github",
        "colab_type": "text"
      },
      "source": [
        "<a href=\"https://colab.research.google.com/github/faizalmaula10/Project_Pacmann_Python/blob/main/project_pacmann.ipynb\" target=\"_parent\"><img src=\"https://colab.research.google.com/assets/colab-badge.svg\" alt=\"Open In Colab\"/></a>"
      ]
    },
    {
      "cell_type": "code",
      "execution_count": null,
      "metadata": {
        "id": "8XVF8qEZuhUC"
      },
      "outputs": [],
      "source": [
        "#project pacmann python II a.n Sugha Faiz Al Maula Batch 13 Analytics & Data Science\n",
        "\n",
        "      "
      ]
    },
    {
      "cell_type": "code",
      "source": [
        "class Transaction:\n",
        "    \n",
        "      def __init__(self,nama,jumlah,harga):\n",
        "        self.nama=nama\n",
        "        self.jumlah=jumlah\n",
        "        self.harga=harga\n",
        "        print(f'barang yg anda beli {nama} dg jumlah {jumlah} dan harga per item {harga}')\n",
        "      def update_nama_item(self,update_nama):\n",
        "        self.update_nama=update_nama\n",
        "        self.nama=self.update_nama\n",
        "        print(f'barang yg anda beli {self.nama} dg jumlah {self.jumlah} dan harga per item {self.harga}')\n",
        "      def update_jumlah_item(self,update_jumlah_item):\n",
        "        self.update_jumlah_item=update_jumlah_item\n",
        "        self.jumlah=self.update_jumlah_item\n",
        "        print(f'barang yg anda beli {self.nama} dg jumlah {self.jumlah} dan harga per item {self.harga}')\n",
        "      def update_harga_item(self,update_harga_item):\n",
        "        self.update_harga_item=update_harga_item\n",
        "        self.harga=self.update_harga_item\n",
        "        print(f'barang yg anda beli {self.nama} dg jumlah {self.jumlah} dan harga per item {self.harga}')\n",
        "      def check_order(self,cek_order):\n",
        "        self.cek_order=cek_order\n",
        "        if self.cek_order==\"benar\":\n",
        "          print(\"pemesanan sudah benar\")\n",
        "          self.harga_total=self.harga*self.jumlah\n",
        "          if  200_000 <= self.harga_total < 300_000:\n",
        "            print(f'barang yg anda beli {self.nama} dg jumlah {self.jumlah} dan harga per item {self.harga} dg total {self.harga_total*0.95}')\n",
        "          elif 300_000 <= self.harga_total < 500_000:\n",
        "            print(f'barang yg anda beli {self.nama} dg jumlah {self.jumlah} dan harga per item {self.harga} dg total {self.harga_total*0.92}')\n",
        "          elif self.harga_total >=500_000:\n",
        "            print(f'barang yg anda beli {self.nama} dg jumlah {self.jumlah} dan harga per item {self.harga} dg total {self.harga_total*0.9}')\n",
        "          else:\n",
        "            print(f'barang yg anda beli {self.nama} dg jumlah {self.jumlah} dan harga per item {self.harga} dg total {self.harga_total}')\n",
        "         \n",
        "        else:\n",
        "          print(\"pemesanan salah ,silakan input ulang\")\n",
        "        \n"
      ],
      "metadata": {
        "id": "s7BfjRSMxljE"
      },
      "execution_count": null,
      "outputs": []
    },
    {
      "cell_type": "markdown",
      "source": [],
      "metadata": {
        "id": "hConpDJp9qim"
      }
    },
    {
      "cell_type": "code",
      "source": [
        "tes=Transaction('dasi',20,12_000)"
      ],
      "metadata": {
        "colab": {
          "base_uri": "https://localhost:8080/"
        },
        "id": "7gy5sUILyqOj",
        "outputId": "e4836752-113b-4c3e-9253-595d1d2b16d3"
      },
      "execution_count": null,
      "outputs": [
        {
          "output_type": "stream",
          "name": "stdout",
          "text": [
            "barang yg anda beli dasi dg jumlah 20 dan harga per item 12000\n"
          ]
        }
      ]
    },
    {
      "cell_type": "code",
      "source": [
        "tes.update_nama_item('tas')\n",
        "tes.update_jumlah_item(12)\n",
        "tes.update_harga_item(50_000)"
      ],
      "metadata": {
        "colab": {
          "base_uri": "https://localhost:8080/"
        },
        "id": "7Rslvw-BRSjM",
        "outputId": "8051fd25-de7b-460b-fa51-2d5b5b489e5f"
      },
      "execution_count": null,
      "outputs": [
        {
          "output_type": "stream",
          "name": "stdout",
          "text": [
            "barang yg anda beli tas dg jumlah 20 dan harga per item 12000\n",
            "barang yg anda beli tas dg jumlah 12 dan harga per item 12000\n",
            "barang yg anda beli tas dg jumlah 12 dan harga per item 50000\n"
          ]
        }
      ]
    },
    {
      "cell_type": "code",
      "source": [
        "tes.check_order(\"salah\")"
      ],
      "metadata": {
        "colab": {
          "base_uri": "https://localhost:8080/"
        },
        "id": "dDfIan8uGI0x",
        "outputId": "2b424998-b148-4966-88ea-22db92e46ec7"
      },
      "execution_count": null,
      "outputs": [
        {
          "output_type": "stream",
          "name": "stdout",
          "text": [
            "pemesanan salah ,silakan input ulang\n"
          ]
        }
      ]
    },
    {
      "cell_type": "code",
      "source": [],
      "metadata": {
        "id": "yT2gVWe7Xjgq"
      },
      "execution_count": null,
      "outputs": []
    }
  ]
}